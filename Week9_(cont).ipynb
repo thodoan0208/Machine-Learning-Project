{
 "cells": [
  {
   "cell_type": "code",
   "execution_count": 7,
   "id": "a0df84d2",
   "metadata": {},
   "outputs": [],
   "source": [
    "import numpy as np \n",
    "import pandas as pd\n",
    "import matplotlib.pyplot as plt\n",
    "import nltk\n",
    "%matplotlib inline"
   ]
  },
  {
   "cell_type": "markdown",
   "id": "d1b4961b",
   "metadata": {},
   "source": [
    "## Explore the data"
   ]
  },
  {
   "cell_type": "code",
   "execution_count": 8,
   "id": "caf281d3",
   "metadata": {},
   "outputs": [],
   "source": [
    "#import dataset\n",
    "data = pd.read_csv(\"./hotel_reviews_raw_data.csv\") "
   ]
  },
  {
   "cell_type": "code",
   "execution_count": 9,
   "id": "221bacd0",
   "metadata": {},
   "outputs": [
    {
     "data": {
      "text/html": [
       "<div>\n",
       "<style scoped>\n",
       "    .dataframe tbody tr th:only-of-type {\n",
       "        vertical-align: middle;\n",
       "    }\n",
       "\n",
       "    .dataframe tbody tr th {\n",
       "        vertical-align: top;\n",
       "    }\n",
       "\n",
       "    .dataframe thead th {\n",
       "        text-align: right;\n",
       "    }\n",
       "</style>\n",
       "<table border=\"1\" class=\"dataframe\">\n",
       "  <thead>\n",
       "    <tr style=\"text-align: right;\">\n",
       "      <th></th>\n",
       "      <th>deceptive</th>\n",
       "      <th>hotel</th>\n",
       "      <th>polarity</th>\n",
       "      <th>source</th>\n",
       "      <th>text</th>\n",
       "    </tr>\n",
       "  </thead>\n",
       "  <tbody>\n",
       "    <tr>\n",
       "      <th>0</th>\n",
       "      <td>truthful</td>\n",
       "      <td>conrad</td>\n",
       "      <td>positive</td>\n",
       "      <td>TripAdvisor</td>\n",
       "      <td>We stayed for a one night getaway with family ...</td>\n",
       "    </tr>\n",
       "    <tr>\n",
       "      <th>1</th>\n",
       "      <td>truthful</td>\n",
       "      <td>hyatt</td>\n",
       "      <td>positive</td>\n",
       "      <td>TripAdvisor</td>\n",
       "      <td>Triple A rate with upgrade to view room was le...</td>\n",
       "    </tr>\n",
       "    <tr>\n",
       "      <th>2</th>\n",
       "      <td>truthful</td>\n",
       "      <td>hyatt</td>\n",
       "      <td>positive</td>\n",
       "      <td>TripAdvisor</td>\n",
       "      <td>This comes a little late as I'm finally catchi...</td>\n",
       "    </tr>\n",
       "    <tr>\n",
       "      <th>3</th>\n",
       "      <td>truthful</td>\n",
       "      <td>omni</td>\n",
       "      <td>positive</td>\n",
       "      <td>TripAdvisor</td>\n",
       "      <td>The Omni Chicago really delivers on all fronts...</td>\n",
       "    </tr>\n",
       "    <tr>\n",
       "      <th>4</th>\n",
       "      <td>truthful</td>\n",
       "      <td>hyatt</td>\n",
       "      <td>positive</td>\n",
       "      <td>TripAdvisor</td>\n",
       "      <td>I asked for a high floor away from the elevato...</td>\n",
       "    </tr>\n",
       "  </tbody>\n",
       "</table>\n",
       "</div>"
      ],
      "text/plain": [
       "  deceptive   hotel  polarity       source  \\\n",
       "0  truthful  conrad  positive  TripAdvisor   \n",
       "1  truthful   hyatt  positive  TripAdvisor   \n",
       "2  truthful   hyatt  positive  TripAdvisor   \n",
       "3  truthful    omni  positive  TripAdvisor   \n",
       "4  truthful   hyatt  positive  TripAdvisor   \n",
       "\n",
       "                                                text  \n",
       "0  We stayed for a one night getaway with family ...  \n",
       "1  Triple A rate with upgrade to view room was le...  \n",
       "2  This comes a little late as I'm finally catchi...  \n",
       "3  The Omni Chicago really delivers on all fronts...  \n",
       "4  I asked for a high floor away from the elevato...  "
      ]
     },
     "execution_count": 9,
     "metadata": {},
     "output_type": "execute_result"
    }
   ],
   "source": [
    "#look at the last five reviews\n",
    "data.head() "
   ]
  },
  {
   "cell_type": "code",
   "execution_count": 10,
   "id": "cc1cdd57",
   "metadata": {},
   "outputs": [
    {
     "name": "stdout",
     "output_type": "stream",
     "text": [
      "deceptive\n",
      "hotel\n",
      "polarity\n",
      "source\n",
      "text\n"
     ]
    }
   ],
   "source": [
    "#list all the column headers:\n",
    "for i in data.columns:\n",
    "    print(i)"
   ]
  },
  {
   "cell_type": "markdown",
   "id": "486c7488",
   "metadata": {},
   "source": [
    "### Information from dataset uploader on Kaggle:\n",
    "\"The csv file contains 17 fields. The description of each field is as below:\n",
    "\n",
    "Hotel_Address: Address of hotel.\n",
    "\n",
    "Review_Date: Date when reviewer posted the corresponding review.\n",
    "\n",
    "Average_Score: Average Score of the hotel, calculated based on the latest comment in the last year.\n",
    "\n",
    "Hotel_Name: Name of Hotel\n",
    "\n",
    "Reviewer_Nationality: Nationality of Reviewer\n",
    "\n",
    "Negative_Review: Negative Review the reviewer gave to the hotel. If the reviewer does not give the negative review, then it should be: 'No Negative'\n",
    "\n",
    "Review_Total_Negative_Word_Counts: Total number of words in the negative review.\n",
    "\n",
    "Positive_Review: Positive Review the reviewer gave to the hotel. If the reviewer does not give the positive review, then it should be: 'No Positive'\n",
    "\n",
    "Review_Total_Positive_Word_Counts: Total number of words in the positive review.\n",
    "\n",
    "Reviewer_Score: Score the reviewer has given to the hotel, based on his/her experience\n",
    "\n",
    "Total_Number_of_Reviews_Reviewer_Has_Given: Number of Reviews the reviewers has given in the past.\n",
    "\n",
    "Total_Number_of_Reviews: Total number of valid reviews the hotel has.\n",
    "\n",
    "Tags: Tags reviewer gave the hotel.\n",
    "\n",
    "days_since_review: Duration between the review date and scrape date.\n",
    "\n",
    "Additional_Number_of_Scoring: There are also some guests who just made a scoring on the service rather than a review. This number indicates how many valid scores without review in there.\n",
    "\n",
    "lat: Latitude of the hotel\n",
    "\n",
    "lng: longtitude of the hotel\n",
    "\n",
    "In order to keep the text data clean, I removed unicode and punctuation in the text data and transform text into lower case. No other preprocessing was performed.\""
   ]
  },
  {
   "cell_type": "code",
   "execution_count": 11,
   "id": "a8acf961",
   "metadata": {},
   "outputs": [
    {
     "data": {
      "text/plain": [
       "1600"
      ]
     },
     "execution_count": 11,
     "metadata": {},
     "output_type": "execute_result"
    }
   ],
   "source": [
    " #total number of reviews\n",
    "len(data)"
   ]
  },
  {
   "cell_type": "code",
   "execution_count": null,
   "id": "28252063",
   "metadata": {},
   "outputs": [],
   "source": [
    "data_plot = data[[\"source\",\"text\"]].drop_duplicates()\n",
    "data_plot_avg = data_plot.plot.hist()\n",
    "plt.show()"
   ]
  },
  {
   "cell_type": "markdown",
   "id": "1d16d939",
   "metadata": {},
   "source": [
    "As a quick exploration of data, we plot the number of hotels versus their average rating:"
   ]
  },
  {
   "cell_type": "code",
   "execution_count": 13,
   "id": "608858bc",
   "metadata": {},
   "outputs": [
    {
     "data": {
      "text/plain": [
       "deceptive                                             truthful\n",
       "hotel                                                  talbott\n",
       "polarity                                              positive\n",
       "source                                                     Web\n",
       "text         where do I start. The GM was a nice guy for ha...\n",
       "dtype: object"
      ]
     },
     "execution_count": 13,
     "metadata": {},
     "output_type": "execute_result"
    }
   ],
   "source": [
    "max_rating = data.max()\n",
    "max_rating"
   ]
  },
  {
   "cell_type": "code",
   "execution_count": 14,
   "id": "38c86c3b",
   "metadata": {},
   "outputs": [
    {
     "data": {
      "text/plain": [
       "deceptive                                            deceptive\n",
       "hotel                                                  affinia\n",
       "polarity                                              negative\n",
       "source                                                   MTurk\n",
       "text          I stayed at the Sheraton Chicago Hotel and To...\n",
       "dtype: object"
      ]
     },
     "execution_count": 14,
     "metadata": {},
     "output_type": "execute_result"
    }
   ],
   "source": [
    "min_rating = data.min() \n",
    "min_rating"
   ]
  },
  {
   "cell_type": "markdown",
   "id": "298a13b3",
   "metadata": {},
   "source": [
    "# Natural Language Processing - Tokenize the reviews and build a bag-of-words model\n",
    "The first goal is to do sentiment analysis on the positive and negative reviews. To do this, we need to first tokenize the words using nltk, remove the stopwords, and build a bag-of-words model."
   ]
  },
  {
   "cell_type": "code",
   "execution_count": 15,
   "id": "5c3394b0",
   "metadata": {},
   "outputs": [
    {
     "name": "stderr",
     "output_type": "stream",
     "text": [
      "[nltk_data] Downloading package punkt to\n",
      "[nltk_data]     C:\\Users\\ASUS\\AppData\\Roaming\\nltk_data...\n",
      "[nltk_data]   Package punkt is already up-to-date!\n"
     ]
    },
    {
     "data": {
      "text/plain": [
       "True"
      ]
     },
     "execution_count": 15,
     "metadata": {},
     "output_type": "execute_result"
    }
   ],
   "source": [
    "nltk.download(\"punkt\")"
   ]
  },
  {
   "cell_type": "code",
   "execution_count": 22,
   "id": "1f32aad7",
   "metadata": {},
   "outputs": [],
   "source": [
    "data = pd.read_csv(\"./hotel_reviews_raw_data.csv\") "
   ]
  },
  {
   "cell_type": "code",
   "execution_count": 29,
   "id": "2e3cf541",
   "metadata": {},
   "outputs": [
    {
     "name": "stdout",
     "output_type": "stream",
     "text": [
      "<class 'pandas.core.series.Series'>\n"
     ]
    }
   ],
   "source": [
    "\n",
    "pos_reviews = data.polarity\n",
    "neg_reviews = data.polarity\n",
    "print(type(pos_reviews))"
   ]
  },
  {
   "cell_type": "code",
   "execution_count": 30,
   "id": "bf211b6d",
   "metadata": {},
   "outputs": [
    {
     "name": "stdout",
     "output_type": "stream",
     "text": [
      "['positive']\n"
     ]
    }
   ],
   "source": [
    "#word_tokenize only works for text file, not whole series\n",
    "pos_reviews_words = nltk.word_tokenize(pos_reviews[1]) \n",
    "#len(pos_reviews[0])\n",
    "#print(pos_reviews[1])\n",
    "#tokenize and print the second review (the first was to\n",
    "print(pos_reviews_words) "
   ]
  },
  {
   "cell_type": "code",
   "execution_count": 31,
   "id": "8e317c04",
   "metadata": {},
   "outputs": [
    {
     "name": "stdout",
     "output_type": "stream",
     "text": [
      "<class 'pandas.core.series.Series'>\n"
     ]
    }
   ],
   "source": [
    "print(type(pos_reviews[:5]))"
   ]
  },
  {
   "cell_type": "code",
   "execution_count": 32,
   "id": "bae3c1cc",
   "metadata": {},
   "outputs": [
    {
     "data": {
      "text/plain": [
       "1600"
      ]
     },
     "execution_count": 32,
     "metadata": {},
     "output_type": "execute_result"
    }
   ],
   "source": [
    "len(pos_reviews)"
   ]
  },
  {
   "cell_type": "markdown",
   "id": "7894a30a",
   "metadata": {},
   "source": [
    "pos_reviews_wordslist = []  \n",
    "\n",
    "*Dec 15 doesn't work for bag-of-words because can't distinguish between neighbouring reviews\n",
    "\n",
    "for i in range(5):\n",
    "\n",
    "for i in range(515738): \n",
    "\n",
    "get error if put len+1 here, needed to switch from pos_reviews[1] to .iloc[1]\n",
    "\n",
    "pos_reviews_wordslist.extend(nltk.word_tokenize(pos_reviews.iloc[i])) \n",
    "\n",
    "tokenize text in each positive review\n",
    "\n",
    " return pos_reviews_wordslist"
   ]
  },
  {
   "cell_type": "code",
   "execution_count": 34,
   "id": "3afbb518",
   "metadata": {},
   "outputs": [],
   "source": [
    "pos_reviews_wordslist = []  \n",
    "#for i in range(5):\n",
    " #get error if put len+1 here, needed to switch from pos_reviews[1] to .iloc[1]\n",
    "for i in range(515):\n",
    "   #tokenize te\n",
    "    pos_reviews_wordslist.append(nltk.word_tokenize(pos_reviews.iloc[i])) "
   ]
  },
  {
   "cell_type": "code",
   "execution_count": 35,
   "id": "5e0dabab",
   "metadata": {},
   "outputs": [
    {
     "name": "stdout",
     "output_type": "stream",
     "text": [
      "[['positive'], ['positive'], ['positive'], ['positive'], ['positive']]\n"
     ]
    }
   ],
   "source": [
    "print(pos_reviews_wordslist[:5])"
   ]
  },
  {
   "cell_type": "code",
   "execution_count": 36,
   "id": "12db5c98",
   "metadata": {},
   "outputs": [
    {
     "data": {
      "text/plain": [
       "515"
      ]
     },
     "execution_count": 36,
     "metadata": {},
     "output_type": "execute_result"
    }
   ],
   "source": [
    "len(pos_reviews_wordslist)"
   ]
  },
  {
   "cell_type": "code",
   "execution_count": 37,
   "id": "f8e2f8c9",
   "metadata": {},
   "outputs": [
    {
     "data": {
      "text/plain": [
       "list"
      ]
     },
     "execution_count": 37,
     "metadata": {},
     "output_type": "execute_result"
    }
   ],
   "source": [
    "type(pos_reviews_wordslist)"
   ]
  },
  {
   "cell_type": "markdown",
   "id": "2776e657",
   "metadata": {},
   "source": [
    " Now we have tokenized all the positive and negative reviews with punctuation already removed in the raw data, we will remove the stop words and build a bag-of-words model with the filtered words"
   ]
  },
  {
   "cell_type": "code",
   "execution_count": null,
   "id": "10af3fdc",
   "metadata": {},
   "outputs": [],
   "source": [
    "import nltk\n",
    "nltk.download()\n",
    "nltk.download(\"text\")"
   ]
  },
  {
   "cell_type": "code",
   "execution_count": null,
   "id": "c2e7c55e",
   "metadata": {},
   "outputs": [],
   "source": [
    " #all the reviews in this dataset are in text\n",
    "len(nltk.corpus.stopwords.words(\"text\"))"
   ]
  },
  {
   "cell_type": "code",
   "execution_count": null,
   "id": "54b729b5",
   "metadata": {},
   "outputs": [],
   "source": [
    "nltk.corpus.stopwords.words(\"text\")[:10]"
   ]
  },
  {
   "cell_type": "code",
   "execution_count": null,
   "id": "3dfff7f2",
   "metadata": {},
   "outputs": [],
   "source": [
    "useless_words = nltk.corpus.stopwords.words(\"text\")\n",
    "type(useless_words)\n"
   ]
  },
  {
   "cell_type": "markdown",
   "id": "f83303a7",
   "metadata": {},
   "source": [
    "# useless_words"
   ]
  },
  {
   "cell_type": "code",
   "execution_count": null,
   "id": "c9e9ad00",
   "metadata": {},
   "outputs": [],
   "source": [
    "def build_bag_of_words_filtered(words):\n",
    "    return {\n",
    "        #word:1 for word in words\n",
    "        word:1 for word in words \\\n",
    "        if not word in useless_words} "
   ]
  },
  {
   "cell_type": "code",
   "execution_count": null,
   "id": "1f0e36dd",
   "metadata": {},
   "outputs": [],
   "source": [
    "assert len(build_bag_of_words_filtered([\"We stayed\", \"stayed\"]))==0, \"We stayed for a one night getaway with family on a thursday."
   ]
  },
  {
   "cell_type": "markdown",
   "id": "f94095b6",
   "metadata": {},
   "source": [
    " We can build the negative and positive features separately using the build-bag-of-words function The format of the positive features should be:\n",
    "\n",
    "[\n",
    "    ( { \"here\":1, \"some\":1, \"words\":1 }, \"pos\" ),\n",
    "    \n",
    "    ( { \"another\":1, \"tweet\":1}, \"pos\" )\n",
    "]\n",
    "\n",
    "It is a list of tuples, the first element is a dictionary of the words with 1 if that word appears, the second the \"pos\" or \"neg\" string."
   ]
  },
  {
   "cell_type": "code",
   "execution_count": null,
   "id": "a25da48f",
   "metadata": {},
   "outputs": [],
   "source": [
    "positive_features = None\n",
    "positive_features = [\n",
    "    (build_bag_of_words_filtered(review),'pos') \\\n",
    "    for review in pos_reviews_wordslist \n",
    "]"
   ]
  },
  {
   "cell_type": "code",
   "execution_count": null,
   "id": "039edcbc",
   "metadata": {},
   "outputs": [],
   "source": [
    "positive_features[-1]"
   ]
  },
  {
   "cell_type": "code",
   "execution_count": null,
   "id": "cf90ab68",
   "metadata": {},
   "outputs": [],
   "source": [
    "type(positive_features)"
   ]
  },
  {
   "cell_type": "code",
   "execution_count": null,
   "id": "90b27a25",
   "metadata": {},
   "outputs": [],
   "source": [
    "negative_features[-2:]"
   ]
  },
  {
   "cell_type": "markdown",
   "id": "f4da9423",
   "metadata": {},
   "source": [
    "# Train a classifier for sentiment analysis"
   ]
  },
  {
   "cell_type": "markdown",
   "id": "2e34f498",
   "metadata": {},
   "source": [
    "\n",
    "We will use the Naive Bayes classifier as explained in lecture; train it on 80 percent of the data, and test on the remaining 20 percent"
   ]
  },
  {
   "cell_type": "code",
   "execution_count": null,
   "id": "0143f196",
   "metadata": {},
   "outputs": [],
   "source": [
    "from nltk.classify import NaiveBayesClassifier"
   ]
  },
  {
   "cell_type": "code",
   "execution_count": null,
   "id": "45cfd1fa",
   "metadata": {},
   "outputs": [],
   "source": [
    "#Using 80% of the data for training, the rest for validation:\n",
    "split = int(len(positive_features) * 0.8)\n",
    "split"
   ]
  },
  {
   "cell_type": "code",
   "execution_count": null,
   "id": "0ba23dcc",
   "metadata": {},
   "outputs": [],
   "source": [
    "classifier = NaiveBayesClassifier.train(positive_features[:split]+negative_features[:split])"
   ]
  },
  {
   "cell_type": "markdown",
   "id": "e8037acf",
   "metadata": {},
   "source": [
    "### check the accuracy on the training and test sets, turning accuracy into percentage:"
   ]
  },
  {
   "cell_type": "code",
   "execution_count": null,
   "id": "f9e48cd1",
   "metadata": {},
   "outputs": [],
   "source": [
    "training_accuracy = None #check accuracy of training set\n",
    "training_accuracy = nltk.classify.util.accuracy(classifier, positive_features[:split] + negative_features[:split])*100\n",
    "training_accuracy"
   ]
  },
  {
   "cell_type": "markdown",
   "id": "5584196f",
   "metadata": {},
   "source": [
    "The training accuracy is around 93.5 percent, which is quite good, as expected since the classifier has seen the data (I was actually expecting it to be a bit higher)"
   ]
  },
  {
   "cell_type": "code",
   "execution_count": null,
   "id": "67ca8a23",
   "metadata": {},
   "outputs": [],
   "source": [
    "test_accuracy = None #check accuracy of test set\n",
    "test_accuracy = nltk.classify.util.accuracy(classifier, positive_features[split:] + negative_features[split:])*100\n",
    "test_accuracy"
   ]
  },
  {
   "cell_type": "markdown",
   "id": "51d8773c",
   "metadata": {},
   "source": [
    " The test accuracy is over 92.5 percent, which is really good and almost as high as the training accuracy. It is also significantly higher for the estimated human prediction accuracy of 80%.\n",
    " \n",
    "This shows the Naive Bayes Classifier is a good method to use for this analysis since it performs well for this type of dataset.\n",
    "\n",
    "The accuracy for the test is also very high compared to the movie review dataset from lecture. We can now print the most informative features below to understand why. The most informative features are the words that mostly identify a positive or a negative review, or the words that had the greatest effect on the prediction accuracy."
   ]
  },
  {
   "cell_type": "code",
   "execution_count": null,
   "id": "5dc87df0",
   "metadata": {},
   "outputs": [],
   "source": [
    "classifier.show_most_informative_features()"
   ]
  },
  {
   "cell_type": "markdown",
   "id": "43e3a6e8",
   "metadata": {},
   "source": [
    "As we can see, the words \"negative\" and \"positive\" appeared in lots of reviews and are quite informative. But due to the nature of the dataset (worded like a questionaire), lots of reviews actually say \"no positive\" or \"no negative\" which can be tricky since they would represent the opposite sentiment, which is why the ratio is not 100 percent (number of reviews versus 1).\n",
    "\n",
    "Since 9 out of 10 most informative features indicate high accuracy for a positive prediction, I decided to look at more of these features:"
   ]
  },
  {
   "cell_type": "code",
   "execution_count": null,
   "id": "3f728976",
   "metadata": {},
   "outputs": [],
   "source": [
    "classifier.show_most_informative_features(50)"
   ]
  },
  {
   "cell_type": "markdown",
   "id": "ed905790",
   "metadata": {},
   "source": [
    "From this list of most informative features, it's interesting to note that quite a few of the informative words from positive reviews refer to the hotel staff (Friendly, Helpful, Efficient) and location (Convenient, Conveniently, Convenience), while the most informative words for negative reviews seem to refer mostly to the facilities (Thin, Charged, Unusable, Lack, unreliable, damaged, Loud, Noisy, Smelly, Missing, loudly)"
   ]
  },
  {
   "cell_type": "markdown",
   "id": "24f9fd9a",
   "metadata": {},
   "source": [
    "### Relationship between reviewer nationality and rating\n",
    "For the second research question, I am interested in finding out the relationship between reviewer nationality and their ratings. Since all the hotels in this dataset are located in Europe, do European travellers tend to give a higher or lower rating? Which country gives the highest and lowest ratings on average? As part of the analysis, I will try to use different types of visualizations to present findings."
   ]
  },
  {
   "cell_type": "markdown",
   "id": "562201c8",
   "metadata": {},
   "source": [
    " We also want to explore whether there is a relationship between the number of reviews a reviewer has given in this dataset and the review score they give to a particular hotel (a larger number of reviews indicates the reviewer is an experienced traveller and often stays at this type of hotels). One hypothesis is a more experienced traveller might have higher standards and give a lower rating."
   ]
  },
  {
   "cell_type": "markdown",
   "id": "ca01b507",
   "metadata": {},
   "source": [
    "### try using seaborn# for scatter plot, both axes need to be numbers! reviewer experie"
   ]
  },
  {
   "cell_type": "code",
   "execution_count": null,
   "id": "c37e245d",
   "metadata": {},
   "outputs": [],
   "source": [
    "#sns.jointplot(x=\"SepalLengthCm\", y=\"SepalWidthCm\", data=iris, size=5)\n",
    "sns.jointplot(x=\"deceptive\", y=\"hotel\")"
   ]
  },
  {
   "cell_type": "markdown",
   "id": "1248816a",
   "metadata": {},
   "source": [
    " <seaborn.axisgrid.JointGrid at 0x1c3919ba8>"
   ]
  },
  {
   "cell_type": "code",
   "execution_count": null,
   "id": "bd38eaf5",
   "metadata": {},
   "outputs": [],
   "source": [
    "sns.axes_style() #check plot style "
   ]
  },
  {
   "cell_type": "markdown",
   "id": "8ef210c8",
   "metadata": {},
   "source": [
    " From SciPy documentation, equation displayed shows Pearson correlation: \n",
    "\n",
    "The Pearson correlation coefficient measures the linear relationship between two datasets. Strictly speaking, Pearson’s correlation requires that each dataset be normally distributed. Like other correlation coefficients, this one varies between -1 and +1 with 0 implying no correlation. Correlations of -1 or +1 imply an exact linear relationship. Positive correlations imply that as x increases, so does y. Negative correlations imply that as x increases, y decreases.\n",
    "\n",
    "\n",
    "Almost 0 --> no correlation between reviewer score and number of  reviews given"
   ]
  },
  {
   "cell_type": "markdown",
   "id": "717b8619",
   "metadata": {},
   "source": [
    "From the plot above, we do not see a clear relationship between reviewer score for a particular hotel and the total number of reviews the reviewer has given. There are even a few outliers where the number of reviews is high, and the reviewer score is also above 8.5. It seems most reviewers have given a low number of reviews in this dataset, I want to adjust the scale of the plot axes to see this better."
   ]
  },
  {
   "cell_type": "code",
   "execution_count": null,
   "id": "8b253c1e",
   "metadata": {},
   "outputs": [],
   "source": [
    "sns_plot=sns.jointplot(x=\"deceptive\", y=\"hotel\", data = data, size=15) \n"
   ]
  },
  {
   "cell_type": "code",
   "execution_count": null,
   "id": "c1d1f315",
   "metadata": {},
   "outputs": [],
   "source": [
    "sns_plot.savefig('sns_scatter.png') #saved sns scatter plot in JupyterNotebooks folder\n"
   ]
  },
  {
   "cell_type": "markdown",
   "id": "ead43fd3",
   "metadata": {},
   "source": [
    "#### change plot to presentation style, from seaborn documentation:\n"
   ]
  },
  {
   "cell_type": "code",
   "execution_count": null,
   "id": "9b4c4e42",
   "metadata": {},
   "outputs": [],
   "source": [
    "sns.set() #reset default parameters\n",
    "sns.set_context(\"text\")\n",
    "sns_plot=sns.jointplot(x=\"deceptive\", y=\"hotel\", d"
   ]
  },
  {
   "cell_type": "code",
   "execution_count": null,
   "id": "24050214",
   "metadata": {},
   "outputs": [],
   "source": [
    "sns_plot.savefig('sns_scatter_talk.png') #save larger plot for presentation"
   ]
  },
  {
   "cell_type": "markdown",
   "id": "0bbc30ac",
   "metadata": {},
   "source": [
    "#### Try plotting this without seaborn library:"
   ]
  },
  {
   "cell_type": "code",
   "execution_count": null,
   "id": "00b4cbeb",
   "metadata": {},
   "outputs": [],
   "source": [
    "def plot_scatter(df, x, y):\n",
    "    ### BEGIN SOLUTION\n",
    "    fig, axis = plt.subplots()\n",
    "    # Grid lines, Xticks, Xlabel, Ylabel\n",
    "    \n",
    "    axis.yaxis.grid(True)\n",
    "    axis.set_title('deceptive',fontsize=10)\n",
    "    axis.set_xlabel(x,fontsize=10)\n",
    "    axis.set_ylabel(y,fontsize=10)\n",
    "\n",
    "\n",
    "    X = df[x]\n",
    "    Y = df[y]\n",
    "\n",
    "    #axis.semilogx(X)\n",
    "    axis.scatter(X, Y)\n",
    "    plt.show()\n",
    "\n",
    "plot_scatter(data, 'deceptive', 'hotel')"
   ]
  },
  {
   "cell_type": "code",
   "execution_count": null,
   "id": "462a3822",
   "metadata": {},
   "outputs": [],
   "source": [
    "#scatter-bubble plot for nations :\n",
    "bbplot = data.plot.scatter(x='deceptive', y='hotel', s=data['text'])"
   ]
  },
  {
   "cell_type": "code",
   "execution_count": null,
   "id": "9ca0de0e",
   "metadata": {},
   "outputs": [],
   "source": [
    "max(data.text.unique())"
   ]
  },
  {
   "cell_type": "markdown",
   "id": "b9701e32",
   "metadata": {},
   "source": [
    "\n",
    "(When revisiting this project in May 2019) Realized there is no correlation because the column Reviewer_Score contains scores for all the hotels from all reviewers, plus the ones that only left a score without reviewing. To take care of that discrepancy, would probably need to filter out the scores posted by those who did not leave a review...(but focusing on another project at the moment, and the main goal of this project -- using Naive Bayes Classifier to do sentiment analysis on hotel reviews dataset -- was successfully achieved"
   ]
  },
  {
   "cell_type": "code",
   "execution_count": null,
   "id": "4e0fd0e9",
   "metadata": {},
   "outputs": [],
   "source": []
  }
 ],
 "metadata": {
  "kernelspec": {
   "display_name": "Python 3 (ipykernel)",
   "language": "python",
   "name": "python3"
  },
  "language_info": {
   "codemirror_mode": {
    "name": "ipython",
    "version": 3
   },
   "file_extension": ".py",
   "mimetype": "text/x-python",
   "name": "python",
   "nbconvert_exporter": "python",
   "pygments_lexer": "ipython3",
   "version": "3.9.7"
  }
 },
 "nbformat": 4,
 "nbformat_minor": 5
}
