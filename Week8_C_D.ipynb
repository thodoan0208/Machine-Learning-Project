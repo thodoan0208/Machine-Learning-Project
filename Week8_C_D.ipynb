{
 "cells": [
  {
   "cell_type": "code",
   "execution_count": null,
   "id": "9fc81cb8",
   "metadata": {},
   "outputs": [],
   "source": []
  },
  {
   "cell_type": "markdown",
   "id": "4bc30c5f",
   "metadata": {},
   "source": [
    "# Example D: Nested Cross Validation and Model Selection"
   ]
  },
  {
   "cell_type": "markdown",
   "id": "3c9f6be7",
   "metadata": {},
   "source": [
    " Aim: This is a working example on Nested Cross Validation — evaluating a learner (Random Forest) is conducted as shown in the example:\n",
    "\n",
    "Dataset: Iris dataset.\n",
    "\n",
    "The general procedure in cross validation is as follows:"
   ]
  },
  {
   "cell_type": "markdown",
   "id": "bd94553c",
   "metadata": {},
   "source": [
    "This is a nested cross validation of 10 outer folds, and 3 inner folds for each.Final model is generated through both loops — model skill becomes the mean of cross validation score. You also can print model parameters for best peforming Random Forest (provided in the example below)."
   ]
  },
  {
   "cell_type": "code",
   "execution_count": null,
   "id": "28f1c09d",
   "metadata": {},
   "outputs": [],
   "source": [
    "# automatic nested cross-validation for random forest on a classification dataset\n",
    "from numpy import mean\n",
    "from numpy import std\n",
    "from sklearn.datasets import make_classification\n",
    "from sklearn.model_selection import cross_val_score\n",
    "from sklearn.model_selection import KFold\n",
    "from sklearn.model_selection import GridSearchCV\n",
    "from sklearn.ensemble import RandomForestClassifier"
   ]
  },
  {
   "cell_type": "code",
   "execution_count": 2,
   "id": "3f204533",
   "metadata": {},
   "outputs": [
    {
     "name": "stdout",
     "output_type": "stream",
     "text": [
      "Each Fold score (we have 10 here): [0.87 0.92 0.9  0.9  0.91 0.87 0.92 0.92 0.92 0.88]\n",
      "Model Accuracy (mean. This is your estimation of model accuracy): 0.901 (0.020)\n",
      "Model Best params: {'max_features': 4, 'n_estimators': 10}\n"
     ]
    }
   ],
   "source": [
    "# create dataset\n",
    "X, y = make_classification(n_samples=1000, n_features=20, random_state=1, n_informative=10, n_redundant=10)\n",
    "# configure the cross-validation procedure\n",
    "cv_inner = KFold(n_splits=3, shuffle=True, random_state=1)\n",
    "# define the model\n",
    "model = RandomForestClassifier(random_state=1)\n",
    "# define search space (parms for hyperparameters, sometimes you find it as param_grid or simply parameters)\n",
    "\n",
    "params = dict()\n",
    "params['n_estimators'] = [2, 4, 10]\n",
    "params['max_features'] = [2, 4, 6]\n",
    "# define the classfier as one whose hyperparameters are found/optimised via GridSearchCV. \n",
    "clf = GridSearchCV(model, params, scoring='accuracy', cv=cv_inner, refit=True)\n",
    "# configure the cross-validation procedure\n",
    "cv_outer = KFold(n_splits=10, shuffle=True, random_state=1)\n",
    "# execute the nested cross-validation\n",
    "# note that clf (the classifier) is fit is tuned earlier on the nested (cv_inner) and evaluated on the outer cv.\n",
    "scores = cross_val_score(clf, X, y, scoring='accuracy', cv=cv_outer)\n",
    "print('Each Fold score (we have 10 here): %s' % scores)\n",
    "\n",
    "# report performance - this is what you report as your model. \n",
    "print('Model Accuracy (mean. This is your estimation of model accuracy): %.3f (%.3f)' % (mean(scores), std(scores)))\n",
    "\n",
    "# If you want to see the parameters which were found for the 'best performing' model, fit the (GridSearched) model and print its parameters as follows:\n",
    "clf.fit(X,y)\n",
    "# Best params\n",
    "print('Model Best params: %s' % clf.best_params_)\n",
    "# Best training data accuracy - uncomment below if you want.\n",
    "#print('Model Best training accuracy: %.3f' % clf.best_score_)"
   ]
  },
  {
   "cell_type": "markdown",
   "id": "dce36ac2",
   "metadata": {},
   "source": [
    "# Tasks D"
   ]
  },
  {
   "cell_type": "markdown",
   "id": "b9e7be8e",
   "metadata": {},
   "source": [
    " Apply the above procedure on another classfier and tune and print best parameters of your choice (SVC, Logistic Regression, Knn, Decision Tree). Can you implement a battery of evaluations for a set of models instead of just one?"
   ]
  },
  {
   "cell_type": "markdown",
   "id": "f338c80d",
   "metadata": {},
   "source": [
    "# Back to Back Modelling"
   ]
  },
  {
   "cell_type": "markdown",
   "id": "429fb114",
   "metadata": {},
   "source": [
    " No Tasks — applying much of what you learnt thus far to tune models, and pick one (learn also, if you like, the use of pipelines). — source here\n",
    "\n",
    "Note 1: PCA will be covered in coming weeks (don't worry if you haven't used it before).\n",
    "\n",
    "Note 2: This will take long time to run — you can reduce the battery of models to two if you want faster results."
   ]
  },
  {
   "cell_type": "code",
   "execution_count": null,
   "id": "8f82afcb",
   "metadata": {},
   "outputs": [],
   "source": [
    "from sklearn.datasets import load_iris\n",
    "from sklearn.model_selection import train_test_split\n",
    "from sklearn.preprocessing import StandardScaler\n",
    "from sklearn.decomposition import PCA\n",
    "from sklearn.pipeline import Pipeline\n",
    "from sklearn.model_selection import GridSearchCV\n",
    "from sklearn.metrics import accuracy_score\n",
    "from sklearn.externals import joblib\n",
    "from sklearn.linear_model import LogisticRegression\n",
    "from sklearn.ensemble import RandomForestClassifier\n",
    "from sklearn import svm"
   ]
  },
  {
   "cell_type": "markdown",
   "id": "3b3f6d7c",
   "metadata": {},
   "source": [
    " Performing model optimizations...\n",
    "\n",
    "Estimator: Logistic Regression Best params: {'clf__C': 1.0, 'clf__penalty': 'l1', 'clf__solver': 'liblinear'} Best training accuracy: 0.917 Test set accuracy score for best params: 0.967\n",
    "\n",
    "Estimator: Logistic Regression w/PCA Best params: {'clf__C': 0.5, 'clf__penalty': 'l1', 'clf__solver': 'liblinear'} Best training accuracy: 0.858 Test set accuracy score for best params: 0.933\n",
    "\n",
    "Estimator: Random Forest"
   ]
  },
  {
   "cell_type": "markdown",
   "id": "d0602f60",
   "metadata": {},
   "source": [
    "## Classification technique on the Breast Cancer dataset"
   ]
  },
  {
   "cell_type": "code",
   "execution_count": 1,
   "id": "13ca4149",
   "metadata": {},
   "outputs": [
    {
     "ename": "ModuleNotFoundError",
     "evalue": "No module named 'sklearn.ens'",
     "output_type": "error",
     "traceback": [
      "\u001b[1;31m---------------------------------------------------------------------------\u001b[0m",
      "\u001b[1;31mModuleNotFoundError\u001b[0m                       Traceback (most recent call last)",
      "\u001b[1;32m~\\AppData\\Local\\Temp/ipykernel_8308/306834639.py\u001b[0m in \u001b[0;36m<module>\u001b[1;34m\u001b[0m\n\u001b[0;32m      9\u001b[0m \u001b[1;32mfrom\u001b[0m \u001b[0msklearn\u001b[0m\u001b[1;33m.\u001b[0m\u001b[0msvm\u001b[0m \u001b[1;32mimport\u001b[0m \u001b[0mSVC\u001b[0m\u001b[1;33m\u001b[0m\u001b[1;33m\u001b[0m\u001b[0m\n\u001b[0;32m     10\u001b[0m \u001b[1;32mfrom\u001b[0m \u001b[0msklearn\u001b[0m\u001b[1;33m.\u001b[0m\u001b[0mpreprocessing\u001b[0m \u001b[1;32mimport\u001b[0m \u001b[0mlabel_binarize\u001b[0m\u001b[1;33m,\u001b[0m \u001b[0mStandardScaler\u001b[0m\u001b[1;33m\u001b[0m\u001b[1;33m\u001b[0m\u001b[0m\n\u001b[1;32m---> 11\u001b[1;33m \u001b[1;32mfrom\u001b[0m \u001b[0msklearn\u001b[0m\u001b[1;33m.\u001b[0m\u001b[0mens\u001b[0m \u001b[1;32mimport\u001b[0m \u001b[0mRandomForestClassifier\u001b[0m\u001b[1;33m\u001b[0m\u001b[1;33m\u001b[0m\u001b[0m\n\u001b[0m\u001b[0;32m     12\u001b[0m \u001b[1;32mimport\u001b[0m \u001b[0mscikitplot\u001b[0m \u001b[1;32mas\u001b[0m \u001b[0mskplt\u001b[0m\u001b[1;33m\u001b[0m\u001b[1;33m\u001b[0m\u001b[0m\n\u001b[0;32m     13\u001b[0m \u001b[1;32mimport\u001b[0m \u001b[0mmatplotlib\u001b[0m\u001b[1;33m.\u001b[0m\u001b[0mpyplot\u001b[0m \u001b[1;32mas\u001b[0m \u001b[0mplt\u001b[0m\u001b[1;33m\u001b[0m\u001b[1;33m\u001b[0m\u001b[0m\n",
      "\u001b[1;31mModuleNotFoundError\u001b[0m: No module named 'sklearn.ens'"
     ]
    }
   ],
   "source": [
    "%matplotlib inline\n",
    "# import necessary libraries and specify that graphs should be plotted inline. \n",
    "from sklearn.datasets import load_breast_cancer\n",
    "from sklearn import tree,linear_model,neighbors, datasets\n",
    "from sklearn.model_selection import cross_val_score, train_test_split, GridSearchCV, KFold\n",
    "from sklearn.metrics import accuracy_score,confusion_matrix,classification_report, roc_curve, auc\n",
    "from sklearn.utils.multiclass import unique_labels\n",
    "from sklearn.exceptions import ConvergenceWarning\n",
    "from sklearn.svm import SVC\n",
    "from sklearn.preprocessing import label_binarize, StandardScaler\n",
    "from sklearn.ens import RandomForestClassifier\n",
    "import scikitplot as skplt\n",
    "import matplotlib.pyplot as plt\n",
    "import numpy as np"
   ]
  },
  {
   "cell_type": "code",
   "execution_count": 2,
   "id": "c44e6d58",
   "metadata": {},
   "outputs": [],
   "source": [
    "# Ignoring warnings for clean output\n",
    "import warnings\n",
    "warnings.filterwarnings(\"ignore\", category=FutureWarning)\n",
    "warnings.filterwarnings(\"ignore\", category=ConvergenceWarning)\n",
    "warnings.filterwarnings(\"ignore\", category=DeprecationWarning)"
   ]
  },
  {
   "cell_type": "code",
   "execution_count": 3,
   "id": "b420ef2e",
   "metadata": {},
   "outputs": [
    {
     "name": "stdout",
     "output_type": "stream",
     "text": [
      ".. _breast_cancer_dataset:\n",
      "\n",
      "Breast cancer wisconsin (diagnostic) dataset\n",
      "--------------------------------------------\n",
      "\n",
      "**Data Set Characteristics:**\n",
      "\n",
      "    :Number of Instances: 569\n",
      "\n",
      "    :Number of Attributes: 30 numeric, predictive attributes and the class\n",
      "\n",
      "    :Attribute Information:\n",
      "        - radius (mean of distances from center to points on the perimeter)\n",
      "        - texture (standard deviation of gray-scale values)\n",
      "        - perimeter\n",
      "        - area\n",
      "        - smoothness (local variation in radius lengths)\n",
      "        - compactness (perimeter^2 / area - 1.0)\n",
      "        - concavity (severity of concave portions of the contour)\n",
      "        - concave points (number of concave portions of the contour)\n",
      "        - symmetry\n",
      "        - fractal dimension (\"coastline approximation\" - 1)\n",
      "\n",
      "        The mean, standard error, and \"worst\" or largest (mean of the three\n",
      "        worst/largest values) of these features were computed for each image,\n",
      "        resulting in 30 features.  For instance, field 0 is Mean Radius, field\n",
      "        10 is Radius SE, field 20 is Worst Radius.\n",
      "\n",
      "        - class:\n",
      "                - WDBC-Malignant\n",
      "                - WDBC-Benign\n",
      "\n",
      "    :Summary Statistics:\n",
      "\n",
      "    ===================================== ====== ======\n",
      "                                           Min    Max\n",
      "    ===================================== ====== ======\n",
      "    radius (mean):                        6.981  28.11\n",
      "    texture (mean):                       9.71   39.28\n",
      "    perimeter (mean):                     43.79  188.5\n",
      "    area (mean):                          143.5  2501.0\n",
      "    smoothness (mean):                    0.053  0.163\n",
      "    compactness (mean):                   0.019  0.345\n",
      "    concavity (mean):                     0.0    0.427\n",
      "    concave points (mean):                0.0    0.201\n",
      "    symmetry (mean):                      0.106  0.304\n",
      "    fractal dimension (mean):             0.05   0.097\n",
      "    radius (standard error):              0.112  2.873\n",
      "    texture (standard error):             0.36   4.885\n",
      "    perimeter (standard error):           0.757  21.98\n",
      "    area (standard error):                6.802  542.2\n",
      "    smoothness (standard error):          0.002  0.031\n",
      "    compactness (standard error):         0.002  0.135\n",
      "    concavity (standard error):           0.0    0.396\n",
      "    concave points (standard error):      0.0    0.053\n",
      "    symmetry (standard error):            0.008  0.079\n",
      "    fractal dimension (standard error):   0.001  0.03\n",
      "    radius (worst):                       7.93   36.04\n",
      "    texture (worst):                      12.02  49.54\n",
      "    perimeter (worst):                    50.41  251.2\n",
      "    area (worst):                         185.2  4254.0\n",
      "    smoothness (worst):                   0.071  0.223\n",
      "    compactness (worst):                  0.027  1.058\n",
      "    concavity (worst):                    0.0    1.252\n",
      "    concave points (worst):               0.0    0.291\n",
      "    symmetry (worst):                     0.156  0.664\n",
      "    fractal dimension (worst):            0.055  0.208\n",
      "    ===================================== ====== ======\n",
      "\n",
      "    :Missing Attribute Values: None\n",
      "\n",
      "    :Class Distribution: 212 - Malignant, 357 - Benign\n",
      "\n",
      "    :Creator:  Dr. William H. Wolberg, W. Nick Street, Olvi L. Mangasarian\n",
      "\n",
      "    :Donor: Nick Street\n",
      "\n",
      "    :Date: November, 1995\n",
      "\n",
      "This is a copy of UCI ML Breast Cancer Wisconsin (Diagnostic) datasets.\n",
      "https://goo.gl/U2Uwz2\n",
      "\n",
      "Features are computed from a digitized image of a fine needle\n",
      "aspirate (FNA) of a breast mass.  They describe\n",
      "characteristics of the cell nuclei present in the image.\n",
      "\n",
      "Separating plane described above was obtained using\n",
      "Multisurface Method-Tree (MSM-T) [K. P. Bennett, \"Decision Tree\n",
      "Construction Via Linear Programming.\" Proceedings of the 4th\n",
      "Midwest Artificial Intelligence and Cognitive Science Society,\n",
      "pp. 97-101, 1992], a classification method which uses linear\n",
      "programming to construct a decision tree.  Relevant features\n",
      "were selected using an exhaustive search in the space of 1-4\n",
      "features and 1-3 separating planes.\n",
      "\n",
      "The actual linear program used to obtain the separating plane\n",
      "in the 3-dimensional space is that described in:\n",
      "[K. P. Bennett and O. L. Mangasarian: \"Robust Linear\n",
      "Programming Discrimination of Two Linearly Inseparable Sets\",\n",
      "Optimization Methods and Software 1, 1992, 23-34].\n",
      "\n",
      "This database is also available through the UW CS ftp server:\n",
      "\n",
      "ftp ftp.cs.wisc.edu\n",
      "cd math-prog/cpo-dataset/machine-learn/WDBC/\n",
      "\n",
      ".. topic:: References\n",
      "\n",
      "   - W.N. Street, W.H. Wolberg and O.L. Mangasarian. Nuclear feature extraction \n",
      "     for breast tumor diagnosis. IS&T/SPIE 1993 International Symposium on \n",
      "     Electronic Imaging: Science and Technology, volume 1905, pages 861-870,\n",
      "     San Jose, CA, 1993.\n",
      "   - O.L. Mangasarian, W.N. Street and W.H. Wolberg. Breast cancer diagnosis and \n",
      "     prognosis via linear programming. Operations Research, 43(4), pages 570-577, \n",
      "     July-August 1995.\n",
      "   - W.H. Wolberg, W.N. Street, and O.L. Mangasarian. Machine learning techniques\n",
      "     to diagnose breast cancer from fine-needle aspirates. Cancer Letters 77 (1994) \n",
      "     163-171.\n"
     ]
    }
   ],
   "source": [
    "# load the data set\n",
    "bc = load_breast_cancer()\n",
    "print(bc.DESCR)"
   ]
  },
  {
   "cell_type": "code",
   "execution_count": 4,
   "id": "1cef9ee1",
   "metadata": {},
   "outputs": [
    {
     "name": "stdout",
     "output_type": "stream",
     "text": [
      "dict_keys(['data', 'target', 'frame', 'target_names', 'DESCR', 'feature_names', 'filename'])\n",
      "The dimensions of the data set are  569 by 30\n",
      "\n",
      "(569, 30)\n",
      "(569,)\n",
      "\n",
      "The classes are: \n",
      " ['malignant' 'benign']\n",
      "\n",
      "The features in the data set are:\n",
      " ['mean radius' 'mean texture' 'mean perimeter' 'mean area'\n",
      " 'mean smoothness' 'mean compactness' 'mean concavity'\n",
      " 'mean concave points' 'mean symmetry' 'mean fractal dimension'\n",
      " 'radius error' 'texture error' 'perimeter error' 'area error'\n",
      " 'smoothness error' 'compactness error' 'concavity error'\n",
      " 'concave points error' 'symmetry error' 'fractal dimension error'\n",
      " 'worst radius' 'worst texture' 'worst perimeter' 'worst area'\n",
      " 'worst smoothness' 'worst compactness' 'worst concavity'\n",
      " 'worst concave points' 'worst symmetry' 'worst fractal dimension']\n"
     ]
    }
   ],
   "source": [
    "## Explore the data set\n",
    "n_samples, n_features = bc.data.shape\n",
    "print(bc.keys())\n",
    "print ('The dimensions of the data set are ', n_samples, 'by', n_features)\n",
    "print()\n",
    "print(bc.data.shape)\n",
    "print(bc.target.shape)\n",
    "print()\n",
    "print('The classes are: \\n', bc.target_names)\n",
    "print()\n",
    "print('The features in the data set are:\\n', bc.feature_names)"
   ]
  },
  {
   "cell_type": "markdown",
   "id": "7c68b190",
   "metadata": {},
   "source": [
    "### Decision Trees"
   ]
  },
  {
   "cell_type": "markdown",
   "id": "99ae233c",
   "metadata": {},
   "source": [
    "### Modeling"
   ]
  },
  {
   "cell_type": "markdown",
   "id": "d6d6f447",
   "metadata": {},
   "source": [
    " Initialized the classifier with hyper-parameter max_depth = 3 as the starting point as the Wisconsin Diagnostic Breast Cancer names file mentions that the best accuracy was received using 3 parameters - Worst Area, Worst Smoothness and Mean Texture"
   ]
  },
  {
   "cell_type": "code",
   "execution_count": 5,
   "id": "f27edf4b",
   "metadata": {},
   "outputs": [],
   "source": [
    "clf = tree.DecisionTreeClassifier(max_depth = 3, random_state=45)"
   ]
  },
  {
   "cell_type": "code",
   "execution_count": 6,
   "id": "1a9c6c18",
   "metadata": {},
   "outputs": [
    {
     "name": "stdout",
     "output_type": "stream",
     "text": [
      "Accuracy: 94.15%\n",
      "\n",
      "Confusion Matrix: - \n",
      " [[ 60   8]\n",
      " [  3 117]]\n",
      "\n",
      "Classification Report: - \n",
      "               precision    recall  f1-score   support\n",
      "\n",
      "           0       0.95      0.88      0.92        68\n",
      "           1       0.94      0.97      0.96       120\n",
      "\n",
      "    accuracy                           0.94       188\n",
      "   macro avg       0.94      0.93      0.94       188\n",
      "weighted avg       0.94      0.94      0.94       188\n",
      "\n"
     ]
    }
   ],
   "source": [
    "\n",
    "X_train, X_test, y_train, y_test = train_test_split(bc.data, bc.target, test_size=0.33,random_state=45)\n",
    "clf = clf.fit(X_train, y_train)\n",
    "y_pred = clf.predict(X_test)\n",
    "print(\"Accuracy: {0:.2%}\".format(accuracy_score(y_test, y_pred)))\n",
    "print()\n",
    "print(\"Confusion Matrix: - \\n\",confusion_matrix(y_test, y_pred))\n",
    "print()\n",
    "print(\"Classification Report: - \\n\",classification_report(y_test, y_pred))"
   ]
  },
  {
   "cell_type": "code",
   "execution_count": 16,
   "id": "408f64f3",
   "metadata": {},
   "outputs": [
    {
     "name": "stdout",
     "output_type": "stream",
     "text": [
      "The 1st instance is predicted to belong to class: [0]\n",
      "The probabilities of belonging to each one of the classes are estimated as: [[1. 0.]]\n"
     ]
    }
   ],
   "source": [
    "# After being fitted, the model can then be used to predict the class of samples:\n",
    "print('The 1st instance is predicted to belong to class:', clf.predict(bc.data[:1, :]))\n",
    "# Here we predict the class of a single value\n",
    "\n",
    "# Alternatively, the probability of each class can be predicted, which is the fraction of training samples of the same class in a leaf:\n",
    "print('The probabilities of belonging to each one of the classes are estimated as:', clf.predict_proba(bc.data[:1, :]))\n",
    "# Here you can see the probability of each one of the classes"
   ]
  },
  {
   "cell_type": "markdown",
   "id": "534881b6",
   "metadata": {},
   "source": [
    " Hyper-parameter max_depth = 3 gives us a Accuracy of 94.15%.\n",
    "\n",
    "Accuracy can be deceiving as it doesn't take into account false negatives. Being a medical case, breast cancer classification should minimize false negatives as this can lead lead to a persons death.\n",
    "\n",
    "I am selecting F1-score for selecting the best estimator because it is a better measure than accuracy as this score takes both false positives and false negatives into account.\n",
    "\n",
    "We get a weighted f1 score of 94% using this model which is a good starting point. Lets see if this can be improved by tuning the hyper parameters."
   ]
  },
  {
   "cell_type": "markdown",
   "id": "8efa40be",
   "metadata": {},
   "source": [
    "### Tuning the hyper-parameters"
   ]
  },
  {
   "cell_type": "markdown",
   "id": "3fadd8cf",
   "metadata": {},
   "source": [
    " Now we see what is the best max-depth for maximizing accuracy in the test data.\n",
    "\n",
    "The max-depth of a tree defines the number of features used to classify the data. Using very few features would result in underfitting and using a lot of features would lead to over-fitting.\n",
    "\n",
    "We also look at both criterions gini and entropy to see which gives us a better accuracy"
   ]
  },
  {
   "cell_type": "code",
   "execution_count": 19,
   "id": "a392ec49",
   "metadata": {},
   "outputs": [
    {
     "data": {
      "image/png": "[encoded data removed]",
      "text/plain": [
       "<Figure size 432x288 with 1 Axes>"
      ]
     },
     "metadata": {
      "needs_background": "light"
     },
     "output_type": "display_data"
    },
    {
     "data": {
      "image/png": "[encoded data removed]",
      "text/plain": [
       "<Figure size 432x288 with 1 Axes>"
      ]
     },
     "metadata": {
      "needs_background": "light"
     },
     "output_type": "display_data"
    }
   ],
   "source": [
    "from matplotlib import pyplot as plt\n",
    "# Optimize decision tree and detect (potential) over-fitting\n",
    "complexity_values = range(1,30)\n",
    "\n",
    "X_train, X_test, y_train, y_test = train_test_split(bc.data, bc.target, test_size=0.33, random_state=45)\n",
    "\n",
    "train_accuracies = []\n",
    "test_accuracies=[]\n",
    "\n",
    "for complexity_value in complexity_values:\n",
    "    clf = tree.DecisionTreeClassifier(criterion=\"gini\", max_depth=complexity_value, random_state=45)\n",
    "    test_accuracies.append(clf.fit(X_train, y_train).score(X_test, y_test))\n",
    "    train_accuracies.append(clf.fit(X_train, y_train).score(X_train, y_train))\n",
    "    \n",
    "# We want to plot our results\n",
    "line1, =plt.plot(complexity_values, test_accuracies,label='test_accuracies')\n",
    "line2, =plt.plot(complexity_values, train_accuracies,label='train_accuracies')\n",
    "plt.xlabel(\"max_depth (with gini)\")\n",
    "plt.ylabel(\"Accuracy\")\n",
    "plt.legend((line1, line2), ('test', 'train'))\n",
    "plt.show()\n",
    "\n",
    "train_accuracies = []\n",
    "test_accuracies=[]\n",
    "\n",
    "for complexity_value in complexity_values:\n",
    "    clf = tree.DecisionTreeClassifier(criterion=\"entropy\", max_depth=complexity_value, random_state=45)\n",
    "    test_accuracies.append(clf.fit(X_train, y_train).score(X_test, y_test))\n",
    "    train_accuracies.append(clf.fit(X_train, y_train).score(X_train, y_train))\n",
    "    \n",
    "# We want to plot our results\n",
    "line1, =plt.plot(complexity_values, test_accuracies,label='test_accuracies')\n",
    "line2, =plt.plot(complexity_values, train_accuracies,label='train_accuracies')\n",
    "plt.xlabel(\"max_depth with entropy\")\n",
    "plt.ylabel(\"Accuracy\")\n",
    "plt.legend((line1, line2), ('test', 'train'))\n",
    "plt.show()"
   ]
  },
  {
   "cell_type": "markdown",
   "id": "c5d959a7",
   "metadata": {},
   "source": [
    " plot a graph of train and test accuracy w.r.t max_depth and we can see that accuracy for the test data is maximum and close to the training data at max_depth = 8 & criterion = \"gini\"\n",
    "\n",
    "Underfitting : If we use max_depth = 1, this would be under-fitting as we are using only one parameter to classify the the data. As seen in the above graph, our test and train accuracies are pretty low when max_depth is lower (1/2)\n",
    "\n",
    "Overfitting : If our max_depth is large i.e greater than 6, we see 100% accuracy in the training data but the accuracy for test data is fluctuating. This is a case of over-fitting so we definitely want the max deph to be less than 6, and max_depth = 4 satisfies this condition."
   ]
  },
  {
   "cell_type": "markdown",
   "id": "2572de08",
   "metadata": {},
   "source": [
    "### Tuning parameters - Nested CV & Grid search"
   ]
  },
  {
   "cell_type": "code",
   "execution_count": 20,
   "id": "ce200c50",
   "metadata": {},
   "outputs": [],
   "source": [
    "from sklearn.datasets import load_breast_cancer\n",
    "from sklearn import tree,linear_model,neighbors, datasets"
   ]
  },
  {
   "cell_type": "markdown",
   "id": "39cb5230",
   "metadata": {},
   "source": [
    "To search for the best parameters, we run a nested cross validation with grid search with the following hyper parameters\n",
    "\n",
    "penalty : To check whether l1 or l2 penalty gives us a better result.\n",
    "\n",
    "C : We also check what is an optimal value for regularization strength. The hyper-parameter 'C' is 1 / lambda (which is an inverse of the penalty or regularization strength."
   ]
  },
  {
   "cell_type": "code",
   "execution_count": 21,
   "id": "95b6ebe8",
   "metadata": {},
   "outputs": [
    {
     "data": {
      "text/plain": [
       "GridSearchCV(cv=KFold(n_splits=4, random_state=45, shuffle=True),\n",
       "             estimator=DecisionTreeClassifier(random_state=45), n_jobs=-1,\n",
       "             param_grid={'criterion': ['gini', 'entropy'],\n",
       "                         'max_depth': range(2, 10),\n",
       "                         'min_impurity_decrease': [0, 1e-08, 1e-07, 1e-06,\n",
       "                                                   1e-05, 0.0001],\n",
       "                         'min_samples_leaf': range(2, 8)},\n",
       "             scoring='f1')"
      ]
     },
     "execution_count": 21,
     "metadata": {},
     "output_type": "execute_result"
    }
   ],
   "source": [
    "X_train,X_test,y_train,y_test = train_test_split(bc.data, bc.target,test_size=0.33,random_state=45)\n",
    "\n",
    "param_grid = dict(criterion = [\"gini\", \"entropy\"], \n",
    "                  max_depth = range(2,10),\n",
    "                  min_samples_leaf = range(2,8),\n",
    "                  min_impurity_decrease = [0,1e-8,1e-7,1e-6,1e-5,1e-4]\n",
    "                 )\n",
    "\n",
    "grid_tree_clf = tree.DecisionTreeClassifier(random_state=45)\n",
    "\n",
    "inner_cv = KFold(n_splits=4, shuffle=True, random_state=45)\n",
    "outer_cv = KFold(n_splits=4, shuffle=True, random_state=45)\n",
    "\n",
    "grid_tree = GridSearchCV(grid_tree_clf, param_grid, cv = inner_cv, scoring='f1',n_jobs=-1)\n",
    "grid_tree.fit(X_train,y_train)\n",
    "\n",
    "# Nested CV with parameter optimization"
   ]
  },
  {
   "cell_type": "code",
   "execution_count": 23,
   "id": "73bee11d",
   "metadata": {},
   "outputs": [
    {
     "ename": "NameError",
     "evalue": "name 'nested_score' is not defined",
     "output_type": "error",
     "traceback": [
      "\u001b[1;31m---------------------------------------------------------------------------\u001b[0m",
      "\u001b[1;31mNameError\u001b[0m                                 Traceback (most recent call last)",
      "\u001b[1;32m~\\AppData\\Local\\Temp/ipykernel_8308/3932774765.py\u001b[0m in \u001b[0;36m<module>\u001b[1;34m\u001b[0m\n\u001b[1;32m----> 1\u001b[1;33m \u001b[0mprint\u001b[0m\u001b[1;33m(\u001b[0m\u001b[1;34m\"Using Nested CV with grid search, we acheive accuracy: {0:.2%} +/- {1:.2%}\"\u001b[0m\u001b[1;33m.\u001b[0m\u001b[0mformat\u001b[0m\u001b[1;33m(\u001b[0m\u001b[0mnested_score\u001b[0m\u001b[1;33m.\u001b[0m\u001b[0mmean\u001b[0m\u001b[1;33m(\u001b[0m\u001b[1;33m)\u001b[0m\u001b[1;33m,\u001b[0m \u001b[0mnested_score\u001b[0m\u001b[1;33m.\u001b[0m\u001b[0mstd\u001b[0m\u001b[1;33m(\u001b[0m\u001b[1;33m)\u001b[0m\u001b[1;33m)\u001b[0m\u001b[1;33m)\u001b[0m\u001b[1;33m\u001b[0m\u001b[1;33m\u001b[0m\u001b[0m\n\u001b[0m\u001b[0;32m      2\u001b[0m \u001b[0mprint\u001b[0m\u001b[1;33m(\u001b[0m\u001b[1;33m)\u001b[0m\u001b[1;33m\u001b[0m\u001b[1;33m\u001b[0m\u001b[0m\n\u001b[0;32m      3\u001b[0m \u001b[0mprint\u001b[0m \u001b[1;33m(\u001b[0m\u001b[1;34m\"The best hyper-parameters to get these accuracy are :-\\n\"\u001b[0m\u001b[1;33m,\u001b[0m \u001b[0mgrid_tree\u001b[0m\u001b[1;33m.\u001b[0m\u001b[0mbest_params_\u001b[0m\u001b[1;33m)\u001b[0m\u001b[1;33m\u001b[0m\u001b[1;33m\u001b[0m\u001b[0m\n\u001b[0;32m      4\u001b[0m \u001b[0mprint\u001b[0m\u001b[1;33m(\u001b[0m\u001b[1;33m)\u001b[0m\u001b[1;33m\u001b[0m\u001b[1;33m\u001b[0m\u001b[0m\n\u001b[0;32m      5\u001b[0m \u001b[0mprint\u001b[0m \u001b[1;33m(\u001b[0m\u001b[1;34m\"The best decision tree classifier is :-\\n\"\u001b[0m\u001b[1;33m,\u001b[0m \u001b[0mgrid_tree\u001b[0m\u001b[1;33m.\u001b[0m\u001b[0mbest_estimator_\u001b[0m\u001b[1;33m)\u001b[0m\u001b[1;33m\u001b[0m\u001b[1;33m\u001b[0m\u001b[0m\n",
      "\u001b[1;31mNameError\u001b[0m: name 'nested_score' is not defined"
     ]
    }
   ],
   "source": [
    "print(\"Using Nested CV with grid search, we acheive accuracy: {0:.2%} +/- {1:.2%}\".format(nested_score.mean(), nested_score.std()))\n",
    "print()\n",
    "print (\"The best hyper-parameters to get these accuracy are :-\\n\", grid_tree.best_params_)\n",
    "print()\n",
    "print (\"The best decision tree classifier is :-\\n\", grid_tree.best_estimator_)\n",
    "y_pred = grid_tree.best_estimator_.predict(X_test)\n",
    "#plot_confusion_matrix(y_test, y_pred, classes=bc.target_names,title='Confusion matrix')\n",
    "print(\"Confusion Matrix: - \\n\",confusion_matrix(y_test, y_pred))\n",
    "print()\n",
    "print(\"Classification Report: - \\n\",classification_report(y_test, y_pred))"
   ]
  },
  {
   "cell_type": "markdown",
   "id": "255e9744",
   "metadata": {},
   "source": [
    "#### K-Nearest Neighbours"
   ]
  },
  {
   "cell_type": "markdown",
   "id": "1e65f5d5",
   "metadata": {},
   "source": [
    "We start by looking at the test data and training data accuracies for number of neighbours from 1 to 30. We have scaled the data to normalise it for better classification results by avoiding missclasification due to the magnitude of the features"
   ]
  },
  {
   "cell_type": "code",
   "execution_count": 24,
   "id": "be163584",
   "metadata": {},
   "outputs": [
    {
     "data": {
      "image/png": "[encoded data removed]",
      "text/plain": [
       "<Figure size 432x288 with 1 Axes>"
      ]
     },
     "metadata": {
      "needs_background": "light"
     },
     "output_type": "display_data"
    }
   ],
   "source": [
    "n_neighbors = range(1,30)\n",
    "\n",
    "# KNeighborsClassifier is implementing the k-nearest neighbors vote\n",
    "X_train, X_test, y_train, y_test = train_test_split(bc.data, bc.target, test_size=0.33, random_state = 45)\n",
    "\n",
    "# normalization of data for KNN\n",
    "sc = StandardScaler()\n",
    "X_train = sc.fit_transform(X_train)\n",
    "X_test = sc.transform(X_test)\n",
    "\n",
    "train_accuracies = []\n",
    "test_accuracies=[]\n",
    "\n",
    "for n in n_neighbors:\n",
    "    clf = neighbors.KNeighborsClassifier(n)\n",
    "    test_accuracies.append(clf.fit(X_train, y_train).score(X_test, y_test))\n",
    "    train_accuracies.append(clf.fit(X_train, y_train).score(X_train, y_train))    \n",
    "\n",
    "# We want to plot our results\n",
    "line1, =plt.plot(n_neighbors, test_accuracies,label='test_accuracies')\n",
    "line2, =plt.plot(n_neighbors, train_accuracies,label='train_accuracies')\n",
    "plt.xlabel(\"n neighbours\")\n",
    "plt.ylabel(\"Accuracy\")\n",
    "plt.xticks(range(2,30,2))\n",
    "plt.legend((line1, line2), ('test', 'train'))\n",
    "plt.show()"
   ]
  },
  {
   "cell_type": "markdown",
   "id": "8ccea0f9",
   "metadata": {},
   "source": [
    "### Logistic regression"
   ]
  },
  {
   "cell_type": "markdown",
   "id": "306da455",
   "metadata": {},
   "source": [
    "As a starting point, we run the Logistic regression classifer with an L1 penalty as a hyper parameter. This is used of regularization of the co-efficients. L1 is useful as it can push feature coefficients to 0, creating a method for feature selection."
   ]
  },
  {
   "cell_type": "code",
   "execution_count": 26,
   "id": "225a6469",
   "metadata": {},
   "outputs": [
    {
     "ename": "SyntaxError",
     "evalue": "unexpected EOF while parsing (Temp/ipykernel_8308/720101674.py, line 6)",
     "output_type": "error",
     "traceback": [
      "\u001b[1;36m  File \u001b[1;32m\"C:\\Users\\ASUS\\AppData\\Local\\Temp/ipykernel_8308/720101674.py\"\u001b[1;36m, line \u001b[1;32m6\u001b[0m\n\u001b[1;33m    print('The probabilities of belonging to each one of the classes are estimated as:', clf.p\u001b[0m\n\u001b[1;37m                                                                                              ^\u001b[0m\n\u001b[1;31mSyntaxError\u001b[0m\u001b[1;31m:\u001b[0m unexpected EOF while parsing\n"
     ]
    }
   ],
   "source": [
    "clf = linear_model.LogisticRegression(penalty='l1', random_state=45)\n",
    "clf.fit(X_train, y_train)\n",
    "scores = cross_val_score(clf, bc.data, bc.target, cv=5)\n",
    "print(\"Accuracy: {0:.2%} +/- {1:.2%}\".format(scores.mean(), scores.std()))\n",
    "print('The 1st instance is predicted to belong to class:', clf.predict(bc.data[:1, :]))\n",
    "print('The probabilities of belonging to each one of the classes are estimated as:', clf.p"
   ]
  },
  {
   "cell_type": "code",
   "execution_count": 27,
   "id": "099d460f",
   "metadata": {},
   "outputs": [
    {
     "name": "stdout",
     "output_type": "stream",
     "text": [
      "Confusion Matrix: - \n",
      " [[ 58  10]\n",
      " [  0 120]]\n",
      "\n",
      "Classification Report: - \n",
      "               precision    recall  f1-score   support\n",
      "\n",
      "           0       1.00      0.85      0.92        68\n",
      "           1       0.92      1.00      0.96       120\n",
      "\n",
      "    accuracy                           0.95       188\n",
      "   macro avg       0.96      0.93      0.94       188\n",
      "weighted avg       0.95      0.95      0.95       188\n",
      "\n"
     ]
    }
   ],
   "source": [
    "y_pred = clf.predict(X_test)\n",
    "print(\"Confusion Matrix: - \\n\",confusion_matrix(y_test, y_pred))\n",
    "print()\n",
    "print(\"Classification Report: - \\n\",classification_report(y_test, y_pred))"
   ]
  },
  {
   "cell_type": "code",
   "execution_count": 28,
   "id": "d16944db",
   "metadata": {},
   "outputs": [
    {
     "name": "stderr",
     "output_type": "stream",
     "text": [
      "C:\\Users\\ASUS\\Documents\\0.DATA_SCIENCE_CODING\\.anaconda\\Anaconda\\lib\\site-packages\\sklearn\\model_selection\\_search.py:922: UserWarning: One or more of the test scores are non-finite: [       nan 0.76652493        nan 0.90231882        nan 0.96149696\n",
      "        nan 0.96352777        nan 0.97495019        nan 0.98076337\n",
      "        nan 0.98069936        nan 0.97836845        nan 0.978288\n",
      "        nan 0.97200321        nan 0.97013801        nan 0.96803992]\n",
      "  warnings.warn(\n",
      "C:\\Users\\ASUS\\Documents\\0.DATA_SCIENCE_CODING\\.anaconda\\Anaconda\\lib\\site-packages\\sklearn\\model_selection\\_search.py:922: UserWarning: One or more of the test scores are non-finite: [       nan 0.9394071         nan 0.94804006        nan 0.94463498\n",
      "        nan 0.94653637        nan 0.95207011        nan 0.95337207\n",
      "        nan 0.94937431        nan 0.95741445        nan 0.9518419\n",
      "        nan 0.95527465        nan 0.9554744         nan 0.94939794]\n",
      "  warnings.warn(\n",
      "C:\\Users\\ASUS\\Documents\\0.DATA_SCIENCE_CODING\\.anaconda\\Anaconda\\lib\\site-packages\\sklearn\\model_selection\\_search.py:922: UserWarning: One or more of the test scores are non-finite: [       nan 0.94825155        nan 0.9609439         nan 0.95352833\n",
      "        nan 0.95130401        nan 0.96365366        nan 0.95992047\n",
      "        nan 0.96155126        nan 0.96945744        nan 0.969107\n",
      "        nan 0.96506757        nan 0.96155126        nan 0.96370324]\n",
      "  warnings.warn(\n",
      "C:\\Users\\ASUS\\Documents\\0.DATA_SCIENCE_CODING\\.anaconda\\Anaconda\\lib\\site-packages\\sklearn\\model_selection\\_search.py:922: UserWarning: One or more of the test scores are non-finite: [       nan 0.93461425        nan 0.95084906        nan 0.94371976\n",
      "        nan 0.94169766        nan 0.94634511        nan 0.9501395\n",
      "        nan 0.9479721         nan 0.95217059        nan 0.94826434\n",
      "        nan 0.95203981        nan 0.95553155        nan 0.9575114 ]\n",
      "  warnings.warn(\n",
      "C:\\Users\\ASUS\\Documents\\0.DATA_SCIENCE_CODING\\.anaconda\\Anaconda\\lib\\site-packages\\sklearn\\model_selection\\_search.py:922: UserWarning: One or more of the test scores are non-finite: [       nan 0.94064307        nan 0.94024821        nan 0.94295246\n",
      "        nan 0.94474672        nan 0.94452955        nan 0.94589945\n",
      "        nan 0.94933548        nan 0.93996845        nan 0.94214742\n",
      "        nan 0.93517753        nan 0.94013746        nan 0.94025983]\n",
      "  warnings.warn(\n"
     ]
    }
   ],
   "source": [
    "grid_values = {'penalty': ['l1', 'l2'], \\\n",
    "               'C':[1e-4,0.001,.009,0.01,.09,1,5,10,25,100,1000,1e4]}\n",
    "\n",
    "clf = linear_model.LogisticRegression(random_state=45)\n",
    "\n",
    "inner_cv = KFold(n_splits=4, shuffle=True, random_state=45)\n",
    "outer_cv = KFold(n_splits=4, shuffle=True, random_state=45)\n",
    "\n",
    "grid_logit = GridSearchCV(clf, grid_values, cv = inner_cv, scoring='f1',n_jobs=-1)\n",
    "grid_logit.fit(X_train,y_train)\n",
    "\n",
    "# Nested CV with parameter optimization\n",
    "nested_score = cross_val_score(grid_logit, bc.data, bc.target, cv=outer_cv)"
   ]
  },
  {
   "cell_type": "code",
   "execution_count": 29,
   "id": "d4ee954e",
   "metadata": {},
   "outputs": [
    {
     "name": "stdout",
     "output_type": "stream",
     "text": [
      "Using Nested CV with grid search, we acheive accuracy: 95.23% +/- 1.47%\n",
      "\n",
      "The best hyper-parameters to get these accuracy are :-\n",
      " {'C': 1, 'penalty': 'l2'}\n",
      "\n",
      "The best logistic regression classifier is :-\n",
      " LogisticRegression(C=1, random_state=45)\n",
      "Confusion Matrix: - \n",
      " [[ 65   3]\n",
      " [  0 120]]\n",
      "\n",
      "Classification Report: - \n",
      "               precision    recall  f1-score   support\n",
      "\n",
      "           0       1.00      0.96      0.98        68\n",
      "           1       0.98      1.00      0.99       120\n",
      "\n",
      "    accuracy                           0.98       188\n",
      "   macro avg       0.99      0.98      0.98       188\n",
      "weighted avg       0.98      0.98      0.98       188\n",
      "\n"
     ]
    }
   ],
   "source": [
    "print(\"Using Nested CV with grid search, we acheive accuracy: {0:.2%} +/- {1:.2%}\".format(nested_score.mean(), nested_score.std()))\n",
    "print()\n",
    "print (\"The best hyper-parameters to get these accuracy are :-\\n\", grid_logit.best_params_)\n",
    "print()\n",
    "print (\"The best logistic regression classifier is :-\\n\", grid_logit.best_estimator_)\n",
    "y_pred = grid_logit.best_estimator_.predict(X_test)\n",
    "#plot_confusion_matrix(y_test, y_pred, classes=bc.target_names,title='Confusion matrix')\n",
    "print(\"Confusion Matrix: - \\n\",confusion_matrix(y_test, y_pred))\n",
    "print()\n",
    "print(\"Classification Report: - \\n\",classification_report(y_test, y_pred))"
   ]
  },
  {
   "cell_type": "markdown",
   "id": "bfd2a1b9",
   "metadata": {},
   "source": [
    "### SVM"
   ]
  },
  {
   "cell_type": "code",
   "execution_count": 30,
   "id": "cd5164c9",
   "metadata": {},
   "outputs": [
    {
     "name": "stdout",
     "output_type": "stream",
     "text": [
      "Training Accuracy:  0.989501312335958\n",
      "Testing Accuracy:  0.9574468085106383\n",
      "Confusion Matrix: - \n",
      " [[ 61   7]\n",
      " [  1 119]]\n",
      "\n",
      "Classification Report: - \n",
      "               precision    recall  f1-score   support\n",
      "\n",
      "           0       0.98      0.90      0.94        68\n",
      "           1       0.94      0.99      0.97       120\n",
      "\n",
      "    accuracy                           0.96       188\n",
      "   macro avg       0.96      0.94      0.95       188\n",
      "weighted avg       0.96      0.96      0.96       188\n",
      "\n"
     ]
    }
   ],
   "source": [
    "model = SVC(kernel = 'linear', random_state = 45)\n",
    "\n",
    "# feeding the training data into the model\n",
    "model.fit(X_train, y_train)\n",
    "\n",
    "# predicting the values for x-test\n",
    "y_pred = model.predict(X_test)\n",
    "\n",
    "# finding the training and testing accuracy\n",
    "print(\"Training Accuracy: \",model.score(X_train, y_train))\n",
    "print(\"Testing Accuracy: \", model.score(X_test, y_test))\n",
    "\n",
    "print(\"Confusion Matrix: - \\n\",confusion_matrix(y_test, y_pred))\n",
    "print()\n",
    "print(\"Classification Report: - \\n\",classification_report(y_test, y_pred))"
   ]
  },
  {
   "cell_type": "code",
   "execution_count": null,
   "id": "dd9026a0",
   "metadata": {},
   "outputs": [],
   "source": [
    "Cs = [0.01, 0.1, 1, 10, 100]\n",
    "gammas = [0.001, 0.01, 0.1, 1]\n",
    "kernels = ['linear','rbf']\n",
    "param_grid = {'kernel':kernels,'C': Cs, 'gamma' : gammas}\n",
    "\n",
    "model = SVC(probability=True,random_state = 45)\n",
    "\n",
    "inner_cv = KFold(n_splits=4, shuffle=True, random_state=45)\n",
    "outer_cv = KFold(n_splits=4, shuffle=True, random_state=45)\n",
    "\n",
    "grid_svm = GridSearchCV(model, param_grid, cv = inner_cv, scoring='f1',n_jobs=-1)\n",
    "grid_svm.fit(X_train,y_train)\n",
    "\n",
    "# Nested CV with parameter optimization\n",
    "nested_score = cross_val_score(grid_svm, bc.data, bc.target, cv=outer_cv)"
   ]
  },
  {
   "cell_type": "code",
   "execution_count": null,
   "id": "7efda235",
   "metadata": {},
   "outputs": [],
   "source": [
    "print(\"Using Nested CV with grid search, we acheive accuracy: {0:.2%} +/- {1:.2%}\".format(nested_score.mean(), nested_score.std()))\n",
    "print()\n",
    "print (\"The best hyper-parameters to get these accuracy are :-\\n\", grid_svm.best_params_)\n",
    "print()\n",
    "print (\"The best SVM classifier is :-\\n\", grid_svm.best_estimator_)\n",
    "y_pred = grid_svm.best_estimator_.predict(X_test)\n",
    "#plot_confusion_matrix(y_test, y_pred, classes=bc.target_names,title='Confusion matrix')\n",
    "print(\"Confusion Matrix: - \\n\",confusion_matrix(y_test, y_pred))\n",
    "print()\n",
    "print(\"Classification Report: - \\n\",classification_report(y_test, y_pred))"
   ]
  },
  {
   "cell_type": "markdown",
   "id": "ae5a29f8",
   "metadata": {},
   "source": [
    "#### Model Selection\n",
    "Comparing all the models that have been analyzed so far:-"
   ]
  },
  {
   "cell_type": "markdown",
   "id": "f4d8b807",
   "metadata": {},
   "source": [
    " Logistic Regression gives us the highest F1-Score of 98% with a high accuracy of 97.32% +/- 1.57%. Even though the standard deviation is higher in logistic regression, we choose this for classification due to the high F1-Score,"
   ]
  },
  {
   "cell_type": "markdown",
   "id": "0cc325b3",
   "metadata": {},
   "source": [
    "Based on the above analyses, we can conculde that among the 4 models discussed, Logistic regression gives us the best fit for classifying breast cancer cells and malignant or benign."
   ]
  },
  {
   "cell_type": "code",
   "execution_count": null,
   "id": "0b1509f3",
   "metadata": {},
   "outputs": [],
   "source": []
  }
 ],
 "metadata": {
  "kernelspec": {
   "display_name": "Python 3 (ipykernel)",
   "language": "python",
   "name": "python3"
  },
  "language_info": {
   "codemirror_mode": {
    "name": "ipython",
    "version": 3
   },
   "file_extension": ".py",
   "mimetype": "text/x-python",
   "name": "python",
   "nbconvert_exporter": "python",
   "pygments_lexer": "ipython3",
   "version": "3.9.7"
  }
 },
 "nbformat": 4,
 "nbformat_minor": 5
}
